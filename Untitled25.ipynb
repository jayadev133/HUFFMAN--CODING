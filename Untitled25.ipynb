{
  "nbformat": 4,
  "nbformat_minor": 0,
  "metadata": {
    "colab": {
      "provenance": []
    },
    "kernelspec": {
      "name": "python3",
      "display_name": "Python 3"
    },
    "language_info": {
      "name": "python"
    }
  },
  "cells": [
    {
      "cell_type": "code",
      "execution_count": 6,
      "metadata": {
        "colab": {
          "base_uri": "https://localhost:8080/"
        },
        "id": "Mb4tI6YxRHKA",
        "outputId": "defd519d-9d13-4c90-b93a-2ebb205edb3f"
      },
      "outputs": [
        {
          "output_type": "stream",
          "name": "stdout",
          "text": [
            "Character | Huffman Code\n",
            "-------------------------\n",
            "    T    |    000\n",
            "    L    |    001\n",
            "    I    |    010\n",
            "    J    |    0110\n",
            "    Y    |    0111\n",
            "    D    |    1000\n",
            "    E    |    1001\n",
            "    V    |    1010\n",
            "         |    1011\n",
            "    P    |    1100\n",
            "    N    |    1101\n",
            "    A    |    111\n"
          ]
        }
      ],
      "source": [
        "#NAME : JAYADEV PALLINTI\n",
        "#REG : 212223240058\n",
        "# Step 1: Get the input string\n",
        "input_string = \"JAYADEV PALLINTI\"  # Example input string\n",
        "# Step 2: Calculate frequency of each character in the input string\n",
        "frequency = {}\n",
        "for char in input_string:\n",
        "    if char in frequency:\n",
        "        frequency[char] += 1\n",
        "    else:\n",
        "        frequency[char] = 1\n",
        "# Step 3: Create tree nodes\n",
        "nodes = [[char, freq] for char, freq in frequency.items()]\n",
        "# Step 4: Main function to implement Huffman coding\n",
        "while len(nodes) > 1:\n",
        "    # Sort nodes based on frequency\n",
        "    nodes = sorted(nodes, key=lambda x: x[1])\n",
        "\n",
        "    # Pick two smallest nodes\n",
        "    left = nodes.pop(0)\n",
        "    right = nodes.pop(0)\n",
        "\n",
        "    # Create a new node with combined frequency\n",
        "    new_node = [[left, right], left[1] + right[1]]\n",
        "    nodes.append(new_node)\n",
        "\n",
        "# The final node is the Huffman tree\n",
        "huffman_tree = nodes[0]\n",
        "# Step 5: Generate Huffman codes\n",
        "huffman_codes = {}\n",
        "\n",
        "def generate_codes(tree, code=\"\"):\n",
        "    if isinstance(tree[0], str):  # If it's a leaf node\n",
        "        huffman_codes[tree[0]] = code\n",
        "    else:  # If it's an internal node, recurse\n",
        "        generate_codes(tree[0][0], code + \"0\")\n",
        "        generate_codes(tree[0][1], code + \"1\")\n",
        "\n",
        "generate_codes(huffman_tree)\n",
        "# Step 6: Print the characters and their Huffman codes\n",
        "print(\"Character | Huffman Code\")\n",
        "print(\"-------------------------\")\n",
        "for char, code in huffman_codes.items():\n",
        "    print(f\"    {char}    |    {code}\")"
      ]
    },
    {
      "cell_type": "code",
      "source": [],
      "metadata": {
        "id": "pLXtK8UhSC6_"
      },
      "execution_count": null,
      "outputs": []
    },
    {
      "cell_type": "code",
      "source": [],
      "metadata": {
        "id": "MMaxF1d3RKAR"
      },
      "execution_count": null,
      "outputs": []
    }
  ]
}